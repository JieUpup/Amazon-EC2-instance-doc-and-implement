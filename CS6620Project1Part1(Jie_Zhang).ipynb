{
  "cells": [
    {
      "cell_type": "code",
      "execution_count": null,
      "metadata": {
        "colab": {
          "base_uri": "https://localhost:8080/"
        },
        "id": "O2w1dhdo0wPe",
        "outputId": "0ba60c77-8c68-4436-bd4e-aa23b773e50f"
      },
      "outputs": [
        {
          "name": "stdout",
          "output_type": "stream",
          "text": [
            "Looking in indexes: https://pypi.org/simple, https://us-python.pkg.dev/colab-wheels/public/simple/\n",
            "Collecting boto\n",
            "  Downloading boto-2.49.0-py2.py3-none-any.whl (1.4 MB)\n",
            "\u001b[2K     \u001b[90m━━━━━━━━━━━━━━━━━━━━━━━━━━━━━━━━━━━━━━━━\u001b[0m \u001b[32m1.4/1.4 MB\u001b[0m \u001b[31m13.4 MB/s\u001b[0m eta \u001b[36m0:00:00\u001b[0m\n",
            "\u001b[?25hInstalling collected packages: boto\n",
            "Successfully installed boto-2.49.0\n"
          ]
        }
      ],
      "source": [
        "!pip install boto"
      ]
    },
    {
      "cell_type": "code",
      "execution_count": null,
      "metadata": {
        "id": "Uyru6ExC2olr"
      },
      "outputs": [],
      "source": [
        "import boto\n",
        "ec2 = boto.connect_ec2(aws_access_key_id='xxx', aws_secret_access_key='xxx')"
      ]
    },
    {
      "cell_type": "code",
      "execution_count": null,
      "metadata": {
        "colab": {
          "base_uri": "https://localhost:8080/",
          "height": 514
        },
        "id": "puAw9O7367AE",
        "outputId": "4f56bf4d-ff05-4562-d4ce-491544ad1243"
      },
      "outputs": [
        {
          "name": "stdout",
          "output_type": "stream",
          "text": [
            "Looking in indexes: https://pypi.org/simple, https://us-python.pkg.dev/colab-wheels/public/simple/\n",
            "Collecting boto3\n",
            "  Downloading boto3-1.26.62-py3-none-any.whl (132 kB)\n",
            "\u001b[2K     \u001b[90m━━━━━━━━━━━━━━━━━━━━━━━━━━━━━━━━━━━━━━━\u001b[0m \u001b[32m132.7/132.7 KB\u001b[0m \u001b[31m5.3 MB/s\u001b[0m eta \u001b[36m0:00:00\u001b[0m\n",
            "\u001b[?25hCollecting botocore<1.30.0,>=1.29.62\n",
            "  Downloading botocore-1.29.62-py3-none-any.whl (10.4 MB)\n",
            "\u001b[2K     \u001b[90m━━━━━━━━━━━━━━━━━━━━━━━━━━━━━━━━━━━━━━━━\u001b[0m \u001b[32m10.4/10.4 MB\u001b[0m \u001b[31m61.3 MB/s\u001b[0m eta \u001b[36m0:00:00\u001b[0m\n",
            "\u001b[?25hCollecting s3transfer<0.7.0,>=0.6.0\n",
            "  Downloading s3transfer-0.6.0-py3-none-any.whl (79 kB)\n",
            "\u001b[2K     \u001b[90m━━━━━━━━━━━━━━━━━━━━━━━━━━━━━━━━━━━━━━━━\u001b[0m \u001b[32m79.6/79.6 KB\u001b[0m \u001b[31m9.0 MB/s\u001b[0m eta \u001b[36m0:00:00\u001b[0m\n",
            "\u001b[?25hCollecting jmespath<2.0.0,>=0.7.1\n",
            "  Downloading jmespath-1.0.1-py3-none-any.whl (20 kB)\n",
            "Collecting urllib3<1.27,>=1.25.4\n",
            "  Downloading urllib3-1.26.14-py2.py3-none-any.whl (140 kB)\n",
            "\u001b[2K     \u001b[90m━━━━━━━━━━━━━━━━━━━━━━━━━━━━━━━━━━━━━━\u001b[0m \u001b[32m140.6/140.6 KB\u001b[0m \u001b[31m12.4 MB/s\u001b[0m eta \u001b[36m0:00:00\u001b[0m\n",
            "\u001b[?25hRequirement already satisfied: python-dateutil<3.0.0,>=2.1 in /usr/local/lib/python3.8/dist-packages (from botocore<1.30.0,>=1.29.62->boto3) (2.8.2)\n",
            "Requirement already satisfied: six>=1.5 in /usr/local/lib/python3.8/dist-packages (from python-dateutil<3.0.0,>=2.1->botocore<1.30.0,>=1.29.62->boto3) (1.15.0)\n",
            "Installing collected packages: urllib3, jmespath, botocore, s3transfer, boto3\n",
            "  Attempting uninstall: urllib3\n",
            "    Found existing installation: urllib3 1.24.3\n",
            "    Uninstalling urllib3-1.24.3:\n",
            "      Successfully uninstalled urllib3-1.24.3\n",
            "Successfully installed boto3-1.26.62 botocore-1.29.62 jmespath-1.0.1 s3transfer-0.6.0 urllib3-1.26.14\n"
          ]
        },
        {
          "data": {
            "application/vnd.colab-display-data+json": {
              "pip_warning": {
                "packages": [
                  "urllib3"
                ]
              }
            }
          },
          "metadata": {},
          "output_type": "display_data"
        }
      ],
      "source": [
        "# use latest view boto3\n",
        "!pip install boto3"
      ]
    },
    {
      "cell_type": "code",
      "execution_count": 3,
      "metadata": {
        "colab": {
          "base_uri": "https://localhost:8080/"
        },
        "id": "jNp27WjM9CSL",
        "outputId": "37be5b8e-4543-4415-a985-cf86569249df"
      },
      "outputs": [
        {
          "name": "stdout",
          "output_type": "stream",
          "text": [
            "zsh:1: command not found: pip\n"
          ]
        },
        {
          "ename": "ModuleNotFoundError",
          "evalue": "No module named 'boto3'",
          "output_type": "error",
          "traceback": [
            "\u001b[0;31m---------------------------------------------------------------------------\u001b[0m",
            "\u001b[0;31mModuleNotFoundError\u001b[0m                       Traceback (most recent call last)",
            "Cell \u001b[0;32mIn[3], line 2\u001b[0m\n\u001b[1;32m      1\u001b[0m get_ipython()\u001b[39m.\u001b[39msystem(\u001b[39m'\u001b[39m\u001b[39mpip install awscli\u001b[39m\u001b[39m'\u001b[39m)\n\u001b[0;32m----> 2\u001b[0m \u001b[39mimport\u001b[39;00m \u001b[39mboto3\u001b[39;00m\n\u001b[1;32m      3\u001b[0m ec2  \u001b[39m=\u001b[39m boto3\u001b[39m.\u001b[39mresource(\n\u001b[1;32m      4\u001b[0m \u001b[39m'\u001b[39m\u001b[39mec2\u001b[39m\u001b[39m'\u001b[39m,\n\u001b[1;32m      5\u001b[0m aws_access_key_id\u001b[39m=\u001b[39m\u001b[39m'\u001b[39m\u001b[39mxxx\u001b[39m\u001b[39m'\u001b[39m,\n\u001b[1;32m      6\u001b[0m aws_secret_access_key\u001b[39m=\u001b[39m\u001b[39m'\u001b[39m\u001b[39mxxx\u001b[39m\u001b[39m'\u001b[39m,\n\u001b[1;32m      7\u001b[0m region_name\u001b[39m=\u001b[39m\u001b[39m'\u001b[39m\u001b[39mus-west-2\u001b[39m\u001b[39m'\u001b[39m\n\u001b[1;32m      8\u001b[0m )\n",
            "\u001b[0;31mModuleNotFoundError\u001b[0m: No module named 'boto3'"
          ]
        }
      ],
      "source": [
        "# question1 : set up instance\n",
        "!pip install awscli\n",
        "import boto3\n",
        "ec2  = boto3.resource(\n",
        "'ec2',\n",
        "aws_access_key_id='xxx',\n",
        "aws_secret_access_key='xxx',\n",
        "region_name='us-west-2'\n",
        ")"
      ]
    },
    {
      "cell_type": "code",
      "execution_count": null,
      "metadata": {
        "colab": {
          "base_uri": "https://localhost:8080/"
        },
        "id": "VooigHdX9fo3",
        "outputId": "e2d8432e-dfd9-41fe-8c1a-9ce338920f32"
      },
      "outputs": [
        {
          "name": "stdout",
          "output_type": "stream",
          "text": [
            "AWS Access Key ID [None]: xxx\n",
            "AWS Secret Access Key [None]: xxx\n",
            "Default region name [None]: us-west-2\n",
            "Default output format [None]: \n"
          ]
        }
      ],
      "source": [
        "!aws configure --profile test\n",
        "#!aws ec2 create-key-pair --key-name 'KeyPair1' --query 'KeyMaterial' --output text --region us-west-2 > KeyPair1.pem \n",
        "#ec2.create_instances( ImageId=\"ami-0dafa01c8100180f8\",\n",
        "#        MinCount=1,\n",
        "#        MaxCount=1,\n",
        "#        InstanceType=\"t2.micro\",\n",
        "#        KeyName=\"keyValuePair\"\n",
        "#    )"
      ]
    },
    {
      "cell_type": "code",
      "execution_count": null,
      "metadata": {
        "id": "Klhgb7bmDx7p"
      },
      "outputs": [],
      "source": [
        "\n",
        "!aws ec2 create-key-pair --key-name 'KeyPair1' --query 'KeyMaterial' --output text --profile test > KeyPair1.pem \n"
      ]
    },
    {
      "cell_type": "code",
      "execution_count": null,
      "metadata": {
        "id": "jVlW1BqTD6R5"
      },
      "outputs": [],
      "source": [
        "instances = ec2.create_instances( ImageId=\"ami-095413544ce52437d\",\n",
        "        MinCount=1,\n",
        "        MaxCount=1,\n",
        "        InstanceType=\"t2.micro\",\n",
        "        KeyName=\"KeyPair1\"\n",
        "    )"
      ]
    },
    {
      "cell_type": "code",
      "execution_count": null,
      "metadata": {
        "colab": {
          "base_uri": "https://localhost:8080/"
        },
        "id": "y9Af-ZRHFLIP",
        "outputId": "82a3eb7f-10d8-48ba-fd7c-623effe1c8a9"
      },
      "outputs": [
        {
          "data": {
            "text/plain": [
              "[ec2.Tag(resource_id='i-09144a1192356982b', key='key1', value='value1')]"
            ]
          },
          "execution_count": 26,
          "metadata": {},
          "output_type": "execute_result"
        }
      ],
      "source": [
        "# question2: add tag for instance\n",
        "instance = instances[0]\n",
        "instance.create_tags(DryRun=False, Resources=[instance.id],\n",
        "                     Tags=[{'Key': 'key1', 'Value': 'value1'}])"
      ]
    },
    {
      "cell_type": "code",
      "execution_count": null,
      "metadata": {
        "colab": {
          "base_uri": "https://localhost:8080/"
        },
        "id": "BbG8a1mOG6zE",
        "outputId": "1e3db1e3-b559-4694-82ce-4d711a41eca0"
      },
      "outputs": [
        {
          "data": {
            "text/plain": [
              "{'ResponseMetadata': {'RequestId': '9f4fe798-2e36-4100-9a9f-731523da6cbb',\n",
              "  'HTTPStatusCode': 200,\n",
              "  'HTTPHeaders': {'x-amzn-requestid': '9f4fe798-2e36-4100-9a9f-731523da6cbb',\n",
              "   'cache-control': 'no-cache, no-store',\n",
              "   'strict-transport-security': 'max-age=31536000; includeSubDomains',\n",
              "   'content-type': 'text/xml;charset=UTF-8',\n",
              "   'content-length': '231',\n",
              "   'date': 'Thu, 02 Feb 2023 07:51:26 GMT',\n",
              "   'server': 'AmazonEC2'},\n",
              "  'RetryAttempts': 0}}"
            ]
          },
          "execution_count": 28,
          "metadata": {},
          "output_type": "execute_result"
        }
      ],
      "source": [
        "# question3: reboot the instance\n",
        "instance.reboot()"
      ]
    },
    {
      "cell_type": "code",
      "execution_count": null,
      "metadata": {
        "colab": {
          "base_uri": "https://localhost:8080/"
        },
        "id": "I-A0Cn7rHAOK",
        "outputId": "588d4c9a-bae4-408d-bdc9-bd26e0036059"
      },
      "outputs": [
        {
          "data": {
            "text/plain": [
              "{'StoppingInstances': [{'CurrentState': {'Code': 64, 'Name': 'stopping'},\n",
              "   'InstanceId': 'i-09144a1192356982b',\n",
              "   'PreviousState': {'Code': 16, 'Name': 'running'}}],\n",
              " 'ResponseMetadata': {'RequestId': 'f625f60e-0f38-4bc5-8d43-2a58a1b7618d',\n",
              "  'HTTPStatusCode': 200,\n",
              "  'HTTPHeaders': {'x-amzn-requestid': 'f625f60e-0f38-4bc5-8d43-2a58a1b7618d',\n",
              "   'cache-control': 'no-cache, no-store',\n",
              "   'strict-transport-security': 'max-age=31536000; includeSubDomains',\n",
              "   'content-type': 'text/xml;charset=UTF-8',\n",
              "   'content-length': '579',\n",
              "   'date': 'Thu, 02 Feb 2023 07:53:53 GMT',\n",
              "   'server': 'AmazonEC2'},\n",
              "  'RetryAttempts': 0}}"
            ]
          },
          "execution_count": 30,
          "metadata": {},
          "output_type": "execute_result"
        }
      ],
      "source": [
        "# question4: stop the instance\n",
        "instance.stop()"
      ]
    },
    {
      "cell_type": "code",
      "execution_count": null,
      "metadata": {
        "colab": {
          "base_uri": "https://localhost:8080/"
        },
        "id": "JMPc_o_rHjII",
        "outputId": "fb5b2ba5-543d-4b4d-8235-4f6f69d7900b"
      },
      "outputs": [
        {
          "name": "stdout",
          "output_type": "stream",
          "text": [
            "6\n"
          ]
        }
      ],
      "source": [
        "# quetion5 : start 6 instance\n",
        "instances2 = ec2.create_instances( ImageId=\"ami-095413544ce52437d\",\n",
        "        MinCount=5,\n",
        "        MaxCount=6,\n",
        "        InstanceType=\"t2.micro\",\n",
        "        KeyName=\"KeyPair1\"\n",
        "    )\n",
        "print(len(instances2))"
      ]
    },
    {
      "cell_type": "code",
      "execution_count": null,
      "metadata": {
        "id": "5HIyqk8OIWzN"
      },
      "outputs": [],
      "source": [
        "# question 6: assign tag,check if the instance id same( I check all the running instance, can't find the same Id)\n",
        "for i in range(6):\n",
        "  suffix = '1' if i % 2 == 0 else '2'\n",
        "  instances2[i].create_tags(DryRun=False, Resources=[instances2[i].id],\n",
        "                     Tags=[{'Key': 'key' + suffix, 'Value': 'value' + suffix}])\n"
      ]
    },
    {
      "cell_type": "code",
      "execution_count": null,
      "metadata": {
        "id": "kLmwaZbwJnMy"
      },
      "outputs": [],
      "source": [
        "# question 7: filter by tag\n",
        "value1_instances = [ i for i in instances2 if i.tags[0]['Value'] == 'value1']\n",
        "# set value1 instances' tag to value2\n",
        "for instance in value1_instances:\n",
        "  instance.delete_tags(DryRun=False, Resources=[instance.id],\n",
        "                     Tags=[{'Key': 'key1', 'Value': 'value1'}])\n",
        "  \n",
        "for instance in value1_instances:\n",
        "  instance.create_tags(DryRun=False, Resources=[instance.id],\n",
        "                     Tags=[{'Key': 'key2', 'Value': 'value2'}])"
      ]
    },
    {
      "cell_type": "code",
      "execution_count": null,
      "metadata": {
        "colab": {
          "base_uri": "https://localhost:8080/"
        },
        "id": "7M5nER4FMmlk",
        "outputId": "ff2c45ef-fc42-4ad9-de56-9b2c042a536e"
      },
      "outputs": [
        {
          "name": "stdout",
          "output_type": "stream",
          "text": [
            "i-0b896d91638c3265b,[{'Key': 'key2', 'Value': 'value2'}]\n",
            "i-0a2c90b815950c82b,[{'Key': 'key2', 'Value': 'value2'}]\n",
            "i-02d4d308410029709,[{'Key': 'key2', 'Value': 'value2'}]\n",
            "i-0962fe0ef0afe8687,[{'Key': 'key2', 'Value': 'value2'}]\n",
            "i-00958664eacd815c4,[{'Key': 'key2', 'Value': 'value2'}]\n",
            "i-0d3f0e1f6db3ea800,[{'Key': 'key2', 'Value': 'value2'}]\n"
          ]
        }
      ],
      "source": [
        "# question 8: describe all the instances\n",
        "# question 9 and 10: all the instance tag update by one tag and list them\n",
        "for instance in instances2:\n",
        "  print(str(instance.id) + ',' + str(instance.tags))"
      ]
    },
    {
      "cell_type": "code",
      "execution_count": null,
      "metadata": {
        "id": "rEGFy778M0vt"
      },
      "outputs": [],
      "source": [
        "# question 11: stop the instance\n",
        "for instance in instances2:\n",
        "  instance.stop()"
      ]
    }
  ],
  "metadata": {
    "colab": {
      "provenance": []
    },
    "kernelspec": {
      "display_name": "Python 3",
      "language": "python",
      "name": "python3"
    },
    "language_info": {
      "codemirror_mode": {
        "name": "ipython",
        "version": 3
      },
      "file_extension": ".py",
      "mimetype": "text/x-python",
      "name": "python",
      "nbconvert_exporter": "python",
      "pygments_lexer": "ipython3",
      "version": "3.11.0"
    },
    "vscode": {
      "interpreter": {
        "hash": "1a1af0ee75eeea9e2e1ee996c87e7a2b11a0bebd85af04bb136d915cefc0abce"
      }
    }
  },
  "nbformat": 4,
  "nbformat_minor": 0
}
